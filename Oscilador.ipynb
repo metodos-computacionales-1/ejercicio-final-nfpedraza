{
 "cells": [
  {
   "cell_type": "code",
   "execution_count": 1,
   "metadata": {},
   "outputs": [],
   "source": [
    "import matplotlib.pylab as plt\n",
    "import numpy as np\n",
    "from IPython.display import clear_output"
   ]
  },
  {
   "cell_type": "code",
   "execution_count": 2,
   "metadata": {},
   "outputs": [],
   "source": [
    "%%bash\n",
    "c++ Oscilador.cpp -o os.out\n",
    "./os.out 1000 >Oscilador.dat"
   ]
  },
  {
   "cell_type": "code",
   "execution_count": 3,
   "metadata": {},
   "outputs": [],
   "source": [
    "Oscilador = np.loadtxt(\"Oscilador.dat\")\n",
    "\n",
    "F = Oscilador[:,0]\n",
    "theta = Oscilador[:,1]\n",
    "theta[227:]+=2*np.pi"
   ]
  },

    {
     "data": {
      "text/plain": [
       "<Figure size 864x720 with 0 Axes>"
      ]
     },
     "metadata": {},
     "output_type": "display_data"
    }
   ],
   "source": [
    "plt.figure(figsize=(12,10))\n",
    "plt.scatter(F,theta,s=4,c='m')\n",
    "plt.xlabel('Fuerza (N)')\n",
    "plt.ylabel('$\\Theta$')\n",
    "plt.title('Bifurcacion para un Oscilador Armonico')\n",
    "plt.grid()\n",
    "plt.savefig(\"oscilador.png\")"
   ]
  },
  {
   "cell_type": "code",
   "execution_count": null,
   "metadata": {},
   "outputs": [],
   "source": []
  },
  {
   "cell_type": "code",
   "execution_count": null,
   "metadata": {},
   "outputs": [],
   "source": []
  }
 ],
 "metadata": {
  "kernelspec": {
   "display_name": "Python 3",
   "language": "python",
   "name": "python3"
  },
  "language_info": {
   "codemirror_mode": {
    "name": "ipython",
    "version": 3
   },
   "file_extension": ".py",
   "mimetype": "text/x-python",
   "name": "python",
   "nbconvert_exporter": "python",
   "pygments_lexer": "ipython3",
   "version": "3.7.3"
  }
 },
 "nbformat": 4,
 "nbformat_minor": 2
}
